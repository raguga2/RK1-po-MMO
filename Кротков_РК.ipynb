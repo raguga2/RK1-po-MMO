{
  "nbformat": 4,
  "nbformat_minor": 0,
  "metadata": {
    "colab": {
      "name": "Кпотков_РК.ipynb",
      "provenance": [],
      "collapsed_sections": []
    },
    "kernelspec": {
      "name": "python3",
      "display_name": "Python 3"
    },
    "language_info": {
      "name": "python"
    }
  },
  "cells": [
    {
      "cell_type": "markdown",
      "metadata": {
        "id": "-Vq1y6xHyy-U"
      },
      "source": [
        "# РК1 "
      ]
    },
    {
      "cell_type": "markdown",
      "metadata": {
        "id": "MeonZEIZy7e1"
      },
      "source": [
        "# Кротков Александр Егорович\n",
        "# Группа: ИУ5-22М\n",
        "# Вариант 6"
      ]
    },
    {
      "cell_type": "markdown",
      "metadata": {
        "id": "EDzmwllszPLg"
      },
      "source": [
        "# Задача №6.\n",
        "Для набора данных проведите устранение пропусков для одного (произвольного) числового признака с использованием метода заполнения средним значением.\n",
        "\n"
      ]
    },
    {
      "cell_type": "markdown",
      "metadata": {
        "id": "xAG97fMW0BXS"
      },
      "source": [
        "# Задача №26.\n",
        "\n",
        "Для набора данных для одного (произвольного) числового признака проведите обнаружение и замену (найденными верхними и нижними границами) выбросов на основе правила трех сигм.\n",
        "\n"
      ]
    },
    {
      "cell_type": "code",
      "metadata": {
        "id": "q7lNtUwDymE9"
      },
      "source": [
        "import numpy as np\n",
        "import pandas as pd \n",
        "import matplotlib.pyplot as plt\n",
        "import seaborn as sns\n",
        "import scipy.stats as stats"
      ],
      "execution_count": null,
      "outputs": []
    },
    {
      "cell_type": "code",
      "metadata": {
        "id": "biqrqkBl1vk5"
      },
      "source": [
        "data = pd.read_csv('/1-1-21 US covid19.csv')"
      ],
      "execution_count": 18,
      "outputs": []
    },
    {
      "cell_type": "code",
      "metadata": {
        "colab": {
          "base_uri": "https://localhost:8080/",
          "height": 221
        },
        "id": "Auq8CCZL3Lym",
        "outputId": "5454e037-921a-40cd-8bdb-0ff1c2f34139"
      },
      "source": [
        "data.head()"
      ],
      "execution_count": 19,
      "outputs": [
        {
          "output_type": "execute_result",
          "data": {
            "text/html": [
              "<div>\n",
              "<style scoped>\n",
              "    .dataframe tbody tr th:only-of-type {\n",
              "        vertical-align: middle;\n",
              "    }\n",
              "\n",
              "    .dataframe tbody tr th {\n",
              "        vertical-align: top;\n",
              "    }\n",
              "\n",
              "    .dataframe thead th {\n",
              "        text-align: right;\n",
              "    }\n",
              "</style>\n",
              "<table border=\"1\" class=\"dataframe\">\n",
              "  <thead>\n",
              "    <tr style=\"text-align: right;\">\n",
              "      <th></th>\n",
              "      <th>State/Territory</th>\n",
              "      <th>Total Cases</th>\n",
              "      <th>Confirmed Cases</th>\n",
              "      <th>Probable Cases</th>\n",
              "      <th>Cases in Last 7 Days</th>\n",
              "      <th>Case Rate per 100000</th>\n",
              "      <th>Total Deaths</th>\n",
              "      <th>Confirmed Deaths</th>\n",
              "      <th>Probable Deaths</th>\n",
              "      <th>Deaths in Last 7 Days</th>\n",
              "      <th>Death Rate per 100000</th>\n",
              "      <th>State Region</th>\n",
              "    </tr>\n",
              "  </thead>\n",
              "  <tbody>\n",
              "    <tr>\n",
              "      <th>0</th>\n",
              "      <td>Alaska</td>\n",
              "      <td>44966</td>\n",
              "      <td>NaN</td>\n",
              "      <td>NaN</td>\n",
              "      <td>1605</td>\n",
              "      <td>6147</td>\n",
              "      <td>202</td>\n",
              "      <td>NaN</td>\n",
              "      <td>NaN</td>\n",
              "      <td>6</td>\n",
              "      <td>27</td>\n",
              "      <td>West</td>\n",
              "    </tr>\n",
              "    <tr>\n",
              "      <th>1</th>\n",
              "      <td>Alabama</td>\n",
              "      <td>356820</td>\n",
              "      <td>287173.0</td>\n",
              "      <td>69647.0</td>\n",
              "      <td>22251</td>\n",
              "      <td>7277</td>\n",
              "      <td>4774</td>\n",
              "      <td>4174.0</td>\n",
              "      <td>600.0</td>\n",
              "      <td>187</td>\n",
              "      <td>97</td>\n",
              "      <td>South</td>\n",
              "    </tr>\n",
              "    <tr>\n",
              "      <th>2</th>\n",
              "      <td>Arkansas</td>\n",
              "      <td>222430</td>\n",
              "      <td>NaN</td>\n",
              "      <td>NaN</td>\n",
              "      <td>14489</td>\n",
              "      <td>7371</td>\n",
              "      <td>3637</td>\n",
              "      <td>NaN</td>\n",
              "      <td>NaN</td>\n",
              "      <td>261</td>\n",
              "      <td>120</td>\n",
              "      <td>South</td>\n",
              "    </tr>\n",
              "    <tr>\n",
              "      <th>3</th>\n",
              "      <td>American Samoa</td>\n",
              "      <td>3</td>\n",
              "      <td>NaN</td>\n",
              "      <td>NaN</td>\n",
              "      <td>0</td>\n",
              "      <td>5</td>\n",
              "      <td>0</td>\n",
              "      <td>NaN</td>\n",
              "      <td>NaN</td>\n",
              "      <td>0</td>\n",
              "      <td>0</td>\n",
              "      <td>Other</td>\n",
              "    </tr>\n",
              "    <tr>\n",
              "      <th>4</th>\n",
              "      <td>Arizona</td>\n",
              "      <td>512489</td>\n",
              "      <td>488303.0</td>\n",
              "      <td>24186.0</td>\n",
              "      <td>39216</td>\n",
              "      <td>7041</td>\n",
              "      <td>8718</td>\n",
              "      <td>7892.0</td>\n",
              "      <td>826.0</td>\n",
              "      <td>539</td>\n",
              "      <td>119</td>\n",
              "      <td>West</td>\n",
              "    </tr>\n",
              "  </tbody>\n",
              "</table>\n",
              "</div>"
            ],
            "text/plain": [
              "  State/Territory  Total Cases  ...  Death Rate per 100000  State Region\n",
              "0          Alaska        44966  ...                     27          West\n",
              "1         Alabama       356820  ...                     97         South\n",
              "2        Arkansas       222430  ...                    120         South\n",
              "3  American Samoa            3  ...                      0         Other\n",
              "4         Arizona       512489  ...                    119          West\n",
              "\n",
              "[5 rows x 12 columns]"
            ]
          },
          "metadata": {
            "tags": []
          },
          "execution_count": 19
        }
      ]
    },
    {
      "cell_type": "code",
      "metadata": {
        "colab": {
          "base_uri": "https://localhost:8080/",
          "height": 204
        },
        "id": "vmuKR2WT6SLT",
        "outputId": "844179b7-6c7c-4503-e0db-c761afc2eb4e"
      },
      "source": [
        "\n",
        "data = data.drop('Death Rate per 100000', 1)\n",
        "data.head()"
      ],
      "execution_count": 20,
      "outputs": [
        {
          "output_type": "execute_result",
          "data": {
            "text/html": [
              "<div>\n",
              "<style scoped>\n",
              "    .dataframe tbody tr th:only-of-type {\n",
              "        vertical-align: middle;\n",
              "    }\n",
              "\n",
              "    .dataframe tbody tr th {\n",
              "        vertical-align: top;\n",
              "    }\n",
              "\n",
              "    .dataframe thead th {\n",
              "        text-align: right;\n",
              "    }\n",
              "</style>\n",
              "<table border=\"1\" class=\"dataframe\">\n",
              "  <thead>\n",
              "    <tr style=\"text-align: right;\">\n",
              "      <th></th>\n",
              "      <th>State/Territory</th>\n",
              "      <th>Total Cases</th>\n",
              "      <th>Confirmed Cases</th>\n",
              "      <th>Probable Cases</th>\n",
              "      <th>Cases in Last 7 Days</th>\n",
              "      <th>Case Rate per 100000</th>\n",
              "      <th>Total Deaths</th>\n",
              "      <th>Confirmed Deaths</th>\n",
              "      <th>Probable Deaths</th>\n",
              "      <th>Deaths in Last 7 Days</th>\n",
              "      <th>State Region</th>\n",
              "    </tr>\n",
              "  </thead>\n",
              "  <tbody>\n",
              "    <tr>\n",
              "      <th>0</th>\n",
              "      <td>Alaska</td>\n",
              "      <td>44966</td>\n",
              "      <td>NaN</td>\n",
              "      <td>NaN</td>\n",
              "      <td>1605</td>\n",
              "      <td>6147</td>\n",
              "      <td>202</td>\n",
              "      <td>NaN</td>\n",
              "      <td>NaN</td>\n",
              "      <td>6</td>\n",
              "      <td>West</td>\n",
              "    </tr>\n",
              "    <tr>\n",
              "      <th>1</th>\n",
              "      <td>Alabama</td>\n",
              "      <td>356820</td>\n",
              "      <td>287173.0</td>\n",
              "      <td>69647.0</td>\n",
              "      <td>22251</td>\n",
              "      <td>7277</td>\n",
              "      <td>4774</td>\n",
              "      <td>4174.0</td>\n",
              "      <td>600.0</td>\n",
              "      <td>187</td>\n",
              "      <td>South</td>\n",
              "    </tr>\n",
              "    <tr>\n",
              "      <th>2</th>\n",
              "      <td>Arkansas</td>\n",
              "      <td>222430</td>\n",
              "      <td>NaN</td>\n",
              "      <td>NaN</td>\n",
              "      <td>14489</td>\n",
              "      <td>7371</td>\n",
              "      <td>3637</td>\n",
              "      <td>NaN</td>\n",
              "      <td>NaN</td>\n",
              "      <td>261</td>\n",
              "      <td>South</td>\n",
              "    </tr>\n",
              "    <tr>\n",
              "      <th>3</th>\n",
              "      <td>American Samoa</td>\n",
              "      <td>3</td>\n",
              "      <td>NaN</td>\n",
              "      <td>NaN</td>\n",
              "      <td>0</td>\n",
              "      <td>5</td>\n",
              "      <td>0</td>\n",
              "      <td>NaN</td>\n",
              "      <td>NaN</td>\n",
              "      <td>0</td>\n",
              "      <td>Other</td>\n",
              "    </tr>\n",
              "    <tr>\n",
              "      <th>4</th>\n",
              "      <td>Arizona</td>\n",
              "      <td>512489</td>\n",
              "      <td>488303.0</td>\n",
              "      <td>24186.0</td>\n",
              "      <td>39216</td>\n",
              "      <td>7041</td>\n",
              "      <td>8718</td>\n",
              "      <td>7892.0</td>\n",
              "      <td>826.0</td>\n",
              "      <td>539</td>\n",
              "      <td>West</td>\n",
              "    </tr>\n",
              "  </tbody>\n",
              "</table>\n",
              "</div>"
            ],
            "text/plain": [
              "  State/Territory  Total Cases  ...  Deaths in Last 7 Days  State Region\n",
              "0          Alaska        44966  ...                      6          West\n",
              "1         Alabama       356820  ...                    187         South\n",
              "2        Arkansas       222430  ...                    261         South\n",
              "3  American Samoa            3  ...                      0         Other\n",
              "4         Arizona       512489  ...                    539          West\n",
              "\n",
              "[5 rows x 11 columns]"
            ]
          },
          "metadata": {
            "tags": []
          },
          "execution_count": 20
        }
      ]
    },
    {
      "cell_type": "markdown",
      "metadata": {
        "id": "kTaO1XJQ__3Y"
      },
      "source": [
        "# Задача №6.\n",
        "\n",
        "Для набора данных проведите устранение пропусков для одного (произвольного) числового признака с использованием метода заполнения средним значением.\n"
      ]
    },
    {
      "cell_type": "code",
      "metadata": {
        "colab": {
          "base_uri": "https://localhost:8080/"
        },
        "id": "IDJVxHtj7bWM",
        "outputId": "a30d1768-5fb4-49dc-afa6-99c5070ca40e"
      },
      "source": [
        "data_features = list(zip(\n",
        "# признаки\n",
        "[i for i in data.columns],\n",
        "zip(\n",
        "    # типы колонок\n",
        "    [str(i) for i in data.dtypes],\n",
        "    # проверим есть ли пропущенные значения\n",
        "    [i for i in data.isnull().sum()]\n",
        ")))\n",
        "# Признаки с типом данных и количеством пропусков\n",
        "data_features"
      ],
      "execution_count": 21,
      "outputs": [
        {
          "output_type": "execute_result",
          "data": {
            "text/plain": [
              "[('State/Territory', ('object', 0)),\n",
              " ('Total Cases', ('int64', 0)),\n",
              " ('Confirmed Cases', ('float64', 27)),\n",
              " ('Probable Cases', ('float64', 27)),\n",
              " ('Cases in Last 7 Days', ('int64', 0)),\n",
              " ('Case Rate per 100000', ('int64', 0)),\n",
              " ('Total Deaths', ('int64', 0)),\n",
              " ('Confirmed Deaths', ('float64', 27)),\n",
              " ('Probable Deaths', ('float64', 27)),\n",
              " ('Deaths in Last 7 Days', ('int64', 0)),\n",
              " ('State Region', ('object', 0))]"
            ]
          },
          "metadata": {
            "tags": []
          },
          "execution_count": 21
        }
      ]
    },
    {
      "cell_type": "code",
      "metadata": {
        "colab": {
          "base_uri": "https://localhost:8080/"
        },
        "id": "EP14BFXM7zgu",
        "outputId": "f6e06057-ff26-4104-e43c-bf83383d468c"
      },
      "source": [
        "\n",
        "# Доля (процент) пропусков\n",
        "[(c, data[c].isnull().mean()) for c in data.columns]"
      ],
      "execution_count": 23,
      "outputs": [
        {
          "output_type": "execute_result",
          "data": {
            "text/plain": [
              "[('State/Territory', 0.0),\n",
              " ('Total Cases', 0.0),\n",
              " ('Confirmed Cases', 0.45),\n",
              " ('Probable Cases', 0.45),\n",
              " ('Cases in Last 7 Days', 0.0),\n",
              " ('Case Rate per 100000', 0.0),\n",
              " ('Total Deaths', 0.0),\n",
              " ('Confirmed Deaths', 0.45),\n",
              " ('Probable Deaths', 0.45),\n",
              " ('Deaths in Last 7 Days', 0.0),\n",
              " ('State Region', 0.0)]"
            ]
          },
          "metadata": {
            "tags": []
          },
          "execution_count": 23
        }
      ]
    },
    {
      "cell_type": "markdown",
      "metadata": {
        "id": "F2pTbvJ9-r3L"
      },
      "source": [
        "\n",
        "Видно, что пропуски имеются в полях Confirmed Cases и Probable Cases"
      ]
    },
    {
      "cell_type": "code",
      "metadata": {
        "id": "Xfq6b9x671mo"
      },
      "source": [
        "# Заполним пропуски Confirmed Cases средними значениями\n",
        "def impute_na(df, variable, value):\n",
        "    df[variable].fillna(value, inplace=True)\n",
        "impute_na(data, 'Confirmed Cases', data['Confirmed Cases'].mean())"
      ],
      "execution_count": 24,
      "outputs": []
    },
    {
      "cell_type": "code",
      "metadata": {
        "id": "ciSIpwkH_KkP"
      },
      "source": [
        "# Заполним пропуски Probable Cases  средними значениями\n",
        "def impute_na(df, variable, value):\n",
        "    df[variable].fillna(value, inplace=True)\n",
        "impute_na(data, 'Probable Cases', data['Probable Cases'].mean())"
      ],
      "execution_count": 25,
      "outputs": []
    },
    {
      "cell_type": "code",
      "metadata": {
        "colab": {
          "base_uri": "https://localhost:8080/"
        },
        "id": "x72H3jSL_br2",
        "outputId": "8f53e96b-7575-4e1e-ca59-395e3ffc2fee"
      },
      "source": [
        "# Убедимся что нет пустых значений\n",
        "data.isnull().sum()"
      ],
      "execution_count": 26,
      "outputs": [
        {
          "output_type": "execute_result",
          "data": {
            "text/plain": [
              "State/Territory           0\n",
              "Total Cases               0\n",
              "Confirmed Cases           0\n",
              "Probable Cases            0\n",
              "Cases in Last 7 Days      0\n",
              "Case Rate per 100000      0\n",
              "Total Deaths              0\n",
              "Confirmed Deaths         27\n",
              "Probable Deaths          27\n",
              "Deaths in Last 7 Days     0\n",
              "State Region              0\n",
              "dtype: int64"
            ]
          },
          "metadata": {
            "tags": []
          },
          "execution_count": 26
        }
      ]
    },
    {
      "cell_type": "markdown",
      "metadata": {
        "id": "iW2izh-L_wO4"
      },
      "source": [
        "# Задача №26.\n",
        "\n",
        "Для набора данных для одного (произвольного) числового признака проведите обнаружение и замену (найденными верхними и нижними границами) выбросов на основе правила трех сигм.\n"
      ]
    },
    {
      "cell_type": "code",
      "metadata": {
        "id": "-FBmVYrkAIyt"
      },
      "source": [
        "def diagnostic_plots(df, variable, title):\n",
        "    fig, ax = plt.subplots(figsize=(10,7))\n",
        "    # гистограмма\n",
        "    plt.subplot(2, 2, 1)\n",
        "    df[variable].hist(bins=30)\n",
        "    ## Q-Q plot\n",
        "    plt.subplot(2, 2, 2)\n",
        "    stats.probplot(df[variable], dist=\"norm\", plot=plt)\n",
        "    # ящик с усами\n",
        "    plt.subplot(2, 2, 3)\n",
        "    sns.violinplot(x=df[variable])    \n",
        "    # ящик с усами\n",
        "    plt.subplot(2, 2, 4)\n",
        "    sns.boxplot(x=df[variable])  \n",
        "    fig.suptitle(title)\n",
        "    plt.show()"
      ],
      "execution_count": 27,
      "outputs": []
    },
    {
      "cell_type": "code",
      "metadata": {
        "colab": {
          "base_uri": "https://localhost:8080/",
          "height": 493
        },
        "id": "culHRP-mAfPZ",
        "outputId": "0afbfded-6819-4a4a-e036-e723c7535bc5"
      },
      "source": [
        "diagnostic_plots(data, 'Probable Cases', 'Probable Cases')"
      ],
      "execution_count": 28,
      "outputs": [
        {
          "output_type": "display_data",
          "data": {
            "image/png": "[encoded data removed]",
            "text/plain": [
              "<Figure size 720x504 with 4 Axes>"
            ]
          },
          "metadata": {
            "tags": [],
            "needs_background": "light"
          }
        }
      ]
    },
    {
      "cell_type": "code",
      "metadata": {
        "colab": {
          "base_uri": "https://localhost:8080/"
        },
        "id": "i3qTEHsLAtsk",
        "outputId": "72b8ffe9-8c45-488d-d0bd-4b27bfe7ae8f"
      },
      "source": [
        "\n",
        "lower_boundary = data['Probable Cases'].mean() - (3 * data['Probable Cases'].std())\n",
        "upper_boundary = data['Probable Cases'].mean() + (3 * data['Probable Cases'].std())\n",
        "print('Нижняя граница',lower_boundary)\n",
        "print('Верхняя граница', upper_boundary)"
      ],
      "execution_count": 29,
      "outputs": [
        {
          "output_type": "stream",
          "text": [
            "Нижняя граница -33436.62360082393\n",
            "Верхняя граница 91583.47208567243\n"
          ],
          "name": "stdout"
        }
      ]
    },
    {
      "cell_type": "code",
      "metadata": {
        "colab": {
          "base_uri": "https://localhost:8080/",
          "height": 493
        },
        "id": "GpMVS54CA9ne",
        "outputId": "0d12ac13-0dd3-4aa2-e926-7bc184f110ca"
      },
      "source": [
        "\n",
        "col = 'Probable Cases'\n",
        "data[col] = np.where(data[col] > upper_boundary, upper_boundary,np.where(data[col] < lower_boundary, lower_boundary, data[col]))\n",
        "diagnostic_plots(data, col, title='Probable Cases')"
      ],
      "execution_count": 35,
      "outputs": [
        {
          "output_type": "display_data",
          "data": {
            "image/png": "[encoded data removed]",
            "text/plain": [
              "<Figure size 720x504 with 4 Axes>"
            ]
          },
          "metadata": {
            "tags": [],
            "needs_background": "light"
          }
        }
      ]
    }
  ]
}